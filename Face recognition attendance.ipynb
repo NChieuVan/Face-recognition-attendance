{
  "nbformat": 4,
  "nbformat_minor": 0,
  "metadata": {
    "colab": {
      "provenance": []
    },
    "kernelspec": {
      "name": "python3",
      "display_name": "Python 3"
    },
    "language_info": {
      "name": "python"
    }
  },
  "cells": [
    {
      "cell_type": "code",
      "source": [
        "# cài ultralytic\n",
        "!pip install ultralytics\n",
        "!pip install deepface"
      ],
      "metadata": {
        "id": "ZhNR8lP-h7XI"
      },
      "execution_count": null,
      "outputs": []
    },
    {
      "cell_type": "code",
      "source": [
        "from ultralytics import YOLO\n",
        "import json\n",
        "import os\n",
        "from deepface import DeepFace\n",
        "import cv2"
      ],
      "metadata": {
        "id": "jXV_zSQm-rWS",
        "colab": {
          "base_uri": "https://localhost:8080/"
        },
        "outputId": "e996e9db-4dbf-47f6-f32a-14ef9e0f3a42"
      },
      "execution_count": 3,
      "outputs": [
        {
          "output_type": "stream",
          "name": "stdout",
          "text": [
            "Creating new Ultralytics Settings v0.0.6 file ✅ \n",
            "View Ultralytics Settings with 'yolo settings' or at '/root/.config/Ultralytics/settings.json'\n",
            "Update Settings with 'yolo settings key=value', i.e. 'yolo settings runs_dir=path/to/dir'. For help see https://docs.ultralytics.com/quickstart/#ultralytics-settings.\n",
            "25-05-19 17:15:45 - Directory /root/.deepface has been created\n",
            "25-05-19 17:15:45 - Directory /root/.deepface/weights has been created\n"
          ]
        }
      ]
    },
    {
      "cell_type": "code",
      "source": [
        "class FaceDatabase:\n",
        "    def __init__(self, json_file_path,path_weight_yolo):\n",
        "        self.json_file_path = json_file_path\n",
        "        # Kiểm tra xem file JSON có tồn tại không, nếu không sẽ tạo mới\n",
        "        if os.path.exists(self.json_file_path):\n",
        "            with open(self.json_file_path, 'r') as f:\n",
        "                self.images_data = json.load(f)\n",
        "        else:\n",
        "            self.images_data = []  # Nếu file chưa có, tạo danh sách rỗng\n",
        "        self.model_detect_face = YOLO(path_weight_yolo)\n",
        "\n",
        "    def crop_face(self,result):\n",
        "      a = result[0].boxes.xyxy.tolist()\n",
        "      if len(a)==0:\n",
        "        return None\n",
        "      img = result[0].orig_img\n",
        "      x0,y0,x1,y1 = result[0].boxes.xyxy.tolist()[0]\n",
        "      crop_img = img[int(y0):int(y1), int(x0):int(x1)]\n",
        "      # convert RGB\n",
        "      # crop_img = cv2.cvtColor(crop_img, cv2.COLOR_BGR2RGB)\n",
        "      return crop_img\n",
        "\n",
        "    def save_data(self):\n",
        "        \"\"\"Lưu dữ liệu vào file JSON\"\"\"\n",
        "        with open(self.json_file_path, 'w') as f:\n",
        "            json.dump(self.images_data, f, indent=4)\n",
        "\n",
        "    def add_image(self, image_name, image_path):\n",
        "        \"\"\"Thêm ảnh mới vào database với image_id tự động tăng\"\"\"\n",
        "        # Tạo ID tự động\n",
        "        image_id = len(self.images_data) + 1  # Tạo ID mới tự động\n",
        "\n",
        "        image = {\n",
        "            'id': image_id,\n",
        "            'name': image_name,\n",
        "            'path': image_path\n",
        "        }\n",
        "\n",
        "        self.images_data.append(image)\n",
        "        self.save_data()\n",
        "\n",
        "        return f\"Ảnh với ID {image_id} đã được thêm vào database.\"\n",
        "\n",
        "    def edit_image(self, image_id, new_name=None, new_path=None):\n",
        "        \"\"\"Sửa thông tin ảnh theo ID\"\"\"\n",
        "        for image in self.images_data:\n",
        "            if image['id'] == image_id:\n",
        "                if new_name:\n",
        "                    image['name'] = new_name\n",
        "                if new_path:\n",
        "                    image['path'] = new_path\n",
        "                self.save_data()\n",
        "                return f\"Đã sửa ảnh với ID {image_id}\"\n",
        "        return f\"Không tìm thấy ảnh với ID {image_id}\"\n",
        "\n",
        "    def delete_image(self, image_id):\n",
        "      \"\"\"Xóa ảnh theo ID\"\"\"\n",
        "      # Kiểm tra xem ảnh có tồn tại trong danh sách hay không\n",
        "      image_to_delete = None\n",
        "      for image in self.images_data:\n",
        "          if image['id'] == image_id:\n",
        "              image_to_delete = image\n",
        "              break\n",
        "\n",
        "      if image_to_delete:\n",
        "          # Xóa ảnh nếu tìm thấy\n",
        "          self.images_data = [image for image in self.images_data if image['id'] != image_id]\n",
        "          self.save_data()  # Lưu lại dữ liệu vào file JSON\n",
        "          print(f\"Đã xóa ảnh với ID {image_id}.\")\n",
        "      else:\n",
        "          # Nếu không tìm thấy ảnh với ID\n",
        "          print(f\"Không tìm thấy ảnh với ID {image_id}.\")\n",
        "\n",
        "\n",
        "    def check_and_store_image(self, test_image_path):\n",
        "        \"\"\"Kiểm tra ảnh và lưu vào database nếu là ảnh đúng\"\"\"\n",
        "        # Cắt khuôn mặt từ ảnh kiểm tra\n",
        "        result = self.model_detect_face(test_image_path)  # Giả sử đây là hàm phát hiện khuôn mặt\n",
        "        crop_img = self.crop_face(result)\n",
        "\n",
        "        if crop_img is None:\n",
        "            print(\"Không phát hiện mặt trong ảnh!\")\n",
        "            return None\n",
        "        is_img = True\n",
        "        if isinstance(test_image_path, str):\n",
        "        # Lưu ảnh khuôn mặt đã cắt vào tệp tạm thời\n",
        "            test_image_path = \"/content/tmp_face.jpg\"\n",
        "            cv2.imwrite(test_image_path, crop_img)\n",
        "        else:\n",
        "            is_img = False\n",
        "\n",
        "        # Kiểm tra ảnh và lưu vào database nếu là ảnh đúng\n",
        "        closest_match = None\n",
        "        highest_similarity = float('inf')  # Để so sánh và tìm ảnh giống nhất\n",
        "        flag = False\n",
        "\n",
        "        # Duyệt qua tất cả ảnh trong database (dựa vào 'path' trong mỗi phần tử JSON)\n",
        "        for image in self.images_data:\n",
        "            dataset_image_path = image['path']  # Lấy đường dẫn ảnh từ JSON\n",
        "\n",
        "            # Sử dụng DeepFace để nhận diện và so sánh khuôn mặt\n",
        "            try:\n",
        "                if is_img == False:\n",
        "                  result = DeepFace.verify(crop_img, dataset_image_path)\n",
        "                  similarity = result['distance']\n",
        "                else:\n",
        "                  result = DeepFace.verify(test_image_path, dataset_image_path)\n",
        "                  similarity = result['distance']\n",
        "\n",
        "                # Kiểm tra xem khuôn mặt có được xác nhận là giống nhau hay không\n",
        "                if result['verified'] == True and similarity < 0.6: #\n",
        "                    print(f\"Điểm danh thành công: {image['name']} với độ tương đồng: {similarity}\")\n",
        "                    flag = True\n",
        "                    closest_match = image['name']\n",
        "                    break\n",
        "            except Exception as e:\n",
        "                print(f\"Lỗi khi so sánh ảnh {dataset_image_path} với ảnh kiểm tra: {e}\")\n",
        "\n",
        "        if not flag:\n",
        "            print(\"Không điểm danh được\")\n",
        "# # # Sử dụng lớp FaceDatabase\n",
        "json_file_path = '/content/images_data.json'\n",
        "path_face_model ='/content/best.pt'\n",
        "# # # Tạo đối tượng FaceDatabase\n",
        "face_db = FaceDatabase(json_file_path,path_face_model)\n"
      ],
      "metadata": {
        "id": "jxvVNcJM0iNY"
      },
      "execution_count": 24,
      "outputs": []
    },
    {
      "cell_type": "markdown",
      "source": [
        "## Test thử Chức năng ( Đổi lại đường dẫn theo máy mik để sử dụng)"
      ],
      "metadata": {
        "id": "wZlzEcVwWeSn"
      }
    },
    {
      "cell_type": "code",
      "source": [
        "img = '/content/001_08194468.jpg'\n",
        "img = cv2.imread(img)\n",
        "img = cv2.cvtColor(img, cv2.COLOR_BGR2RGB)"
      ],
      "metadata": {
        "id": "9UKaKPqUqdrA"
      },
      "execution_count": 32,
      "outputs": []
    },
    {
      "cell_type": "code",
      "source": [
        "# ảnh đã đọc, hoặc lấy từ camera,hoặc đường đã ảnh\n",
        "face_db.check_and_store_image(img)"
      ],
      "metadata": {
        "colab": {
          "base_uri": "https://localhost:8080/"
        },
        "id": "_GSlHWH-HKuG",
        "outputId": "39bbae81-dfdf-4986-c55f-f82cd8359690"
      },
      "execution_count": 33,
      "outputs": [
        {
          "output_type": "stream",
          "name": "stdout",
          "text": [
            "\n",
            "0: 640x640 1 face, 130.6ms\n",
            "Speed: 5.9ms preprocess, 130.6ms inference, 0.9ms postprocess per image at shape (1, 3, 640, 640)\n",
            "Điểm danh thành công: image8.jpg với độ tương đồng: 0.04043497593360745\n"
          ]
        }
      ]
    },
    {
      "cell_type": "code",
      "source": [
        "face_db.add_image('image8.jpg', '/content/001_08194468.jpg')"
      ],
      "metadata": {
        "colab": {
          "base_uri": "https://localhost:8080/",
          "height": 36
        },
        "id": "6JWNM6yrUCVr",
        "outputId": "7a82a7c0-686e-4d6c-f197-b59dc5c2e1cb"
      },
      "execution_count": 26,
      "outputs": [
        {
          "output_type": "execute_result",
          "data": {
            "text/plain": [
              "'Ảnh với ID 8 đã được thêm vào database.'"
            ],
            "application/vnd.google.colaboratory.intrinsic+json": {
              "type": "string"
            }
          },
          "metadata": {},
          "execution_count": 26
        }
      ]
    },
    {
      "cell_type": "code",
      "source": [
        "face_db.edit_image(8, new_name='image8_updated.jpg', new_path='/content/001_08194468.jpg')\n"
      ],
      "metadata": {
        "colab": {
          "base_uri": "https://localhost:8080/",
          "height": 36
        },
        "id": "qSuHPHfRUN9s",
        "outputId": "b2047aab-d660-483c-9c59-a34e9f17a6a0"
      },
      "execution_count": 34,
      "outputs": [
        {
          "output_type": "execute_result",
          "data": {
            "text/plain": [
              "'Đã sửa ảnh với ID 8'"
            ],
            "application/vnd.google.colaboratory.intrinsic+json": {
              "type": "string"
            }
          },
          "metadata": {},
          "execution_count": 34
        }
      ]
    },
    {
      "cell_type": "code",
      "source": [
        "face_db.delete_image(8)"
      ],
      "metadata": {
        "colab": {
          "base_uri": "https://localhost:8080/"
        },
        "id": "2cUnWcW0V31F",
        "outputId": "a02b4617-e011-4796-dd26-00c4352566cb"
      },
      "execution_count": 35,
      "outputs": [
        {
          "output_type": "stream",
          "name": "stdout",
          "text": [
            "Đã xóa ảnh với ID 8.\n"
          ]
        }
      ]
    }
  ]
}